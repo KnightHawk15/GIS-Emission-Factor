{
  "nbformat": 4,
  "nbformat_minor": 0,
  "metadata": {
    "colab": {
      "name": "EthanPeters_finalProject",
      "provenance": [],
      "collapsed_sections": [
        "VsXs-rJVEl4X",
        "GIQQM3anWtN4",
        "1_krirxiXQlL",
        "q2yL4XJs656u",
        "yWjbL_I9w2D3",
        "0nlK0Xk47-or"
      ]
    },
    "kernelspec": {
      "name": "python3",
      "display_name": "Python 3"
    }
  },
  "cells": [
    {
      "cell_type": "markdown",
      "metadata": {
        "id": "JT7blQmJCEtw"
      },
      "source": [
        "# House Keeping"
      ]
    },
    {
      "cell_type": "markdown",
      "metadata": {
        "id": "cg_bjg2smTfD"
      },
      "source": [
        "Pippin:"
      ]
    },
    {
      "cell_type": "code",
      "metadata": {
        "id": "Q6GxA2-jCEVg",
        "outputId": "89486562-6809-45ea-a117-f8148270d93c",
        "colab": {
          "base_uri": "https://localhost:8080/",
          "height": 532
        }
      },
      "source": [
        "!pip install rasterio\n",
        "!pip install kaggle"
      ],
      "execution_count": null,
      "outputs": [
        {
          "output_type": "stream",
          "text": [
            "Collecting rasterio\n",
            "\u001b[?25l  Downloading https://files.pythonhosted.org/packages/c7/81/13321f88f582a00705c5f348724728e8999136e19d6e7c56f7e6ac9bb7f9/rasterio-1.1.3-cp36-cp36m-manylinux1_x86_64.whl (18.1MB)\n",
            "\u001b[K     |████████████████████████████████| 18.1MB 1.8MB/s \n",
            "\u001b[?25hCollecting snuggs>=1.4.1\n",
            "  Downloading https://files.pythonhosted.org/packages/cc/0e/d27d6e806d6c0d1a2cfdc5d1f088e42339a0a54a09c3343f7f81ec8947ea/snuggs-1.4.7-py3-none-any.whl\n",
            "Collecting affine\n",
            "  Downloading https://files.pythonhosted.org/packages/ac/a6/1a39a1ede71210e3ddaf623982b06ecfc5c5c03741ae659073159184cd3e/affine-2.3.0-py2.py3-none-any.whl\n",
            "Collecting cligj>=0.5\n",
            "  Downloading https://files.pythonhosted.org/packages/e4/be/30a58b4b0733850280d01f8bd132591b4668ed5c7046761098d665ac2174/cligj-0.5.0-py3-none-any.whl\n",
            "Requirement already satisfied: click<8,>=4.0 in /usr/local/lib/python3.6/dist-packages (from rasterio) (7.1.1)\n",
            "Collecting click-plugins\n",
            "  Downloading https://files.pythonhosted.org/packages/e9/da/824b92d9942f4e472702488857914bdd50f73021efea15b4cad9aca8ecef/click_plugins-1.1.1-py2.py3-none-any.whl\n",
            "Requirement already satisfied: numpy in /usr/local/lib/python3.6/dist-packages (from rasterio) (1.18.2)\n",
            "Requirement already satisfied: attrs in /usr/local/lib/python3.6/dist-packages (from rasterio) (19.3.0)\n",
            "Requirement already satisfied: pyparsing>=2.1.6 in /usr/local/lib/python3.6/dist-packages (from snuggs>=1.4.1->rasterio) (2.4.7)\n",
            "Installing collected packages: snuggs, affine, cligj, click-plugins, rasterio\n",
            "Successfully installed affine-2.3.0 click-plugins-1.1.1 cligj-0.5.0 rasterio-1.1.3 snuggs-1.4.7\n",
            "Requirement already satisfied: kaggle in /usr/local/lib/python3.6/dist-packages (1.5.6)\n",
            "Requirement already satisfied: urllib3<1.25,>=1.21.1 in /usr/local/lib/python3.6/dist-packages (from kaggle) (1.24.3)\n",
            "Requirement already satisfied: python-dateutil in /usr/local/lib/python3.6/dist-packages (from kaggle) (2.8.1)\n",
            "Requirement already satisfied: python-slugify in /usr/local/lib/python3.6/dist-packages (from kaggle) (4.0.0)\n",
            "Requirement already satisfied: certifi in /usr/local/lib/python3.6/dist-packages (from kaggle) (2020.4.5.1)\n",
            "Requirement already satisfied: six>=1.10 in /usr/local/lib/python3.6/dist-packages (from kaggle) (1.12.0)\n",
            "Requirement already satisfied: requests in /usr/local/lib/python3.6/dist-packages (from kaggle) (2.21.0)\n",
            "Requirement already satisfied: tqdm in /usr/local/lib/python3.6/dist-packages (from kaggle) (4.38.0)\n",
            "Requirement already satisfied: text-unidecode>=1.3 in /usr/local/lib/python3.6/dist-packages (from python-slugify->kaggle) (1.3)\n",
            "Requirement already satisfied: idna<2.9,>=2.5 in /usr/local/lib/python3.6/dist-packages (from requests->kaggle) (2.8)\n",
            "Requirement already satisfied: chardet<3.1.0,>=3.0.2 in /usr/local/lib/python3.6/dist-packages (from requests->kaggle) (3.0.4)\n"
          ],
          "name": "stdout"
        }
      ]
    },
    {
      "cell_type": "code",
      "metadata": {
        "id": "tatPirUhCXmf",
        "outputId": "ac7076d9-5592-48bb-df7c-5f59a2d1378f",
        "colab": {
          "base_uri": "https://localhost:8080/",
          "height": 1000
        }
      },
      "source": [
        "!kaggle competitions download -c ds4g-environmental-insights-explorer\n",
        "!mkdir gfs gldas s5p gppd\n",
        "!mv gfs* gfs/\n",
        "!mv gldas* gldas/\n",
        "!mv s5p_no2* s5p_no2/\n",
        "!unzip -q /content/\\*.zip -d /content/s5p\n",
        "!rm /content/*.zip\n",
        "!mv gppd* gppd/"
      ],
      "execution_count": null,
      "outputs": [
        {
          "output_type": "stream",
          "text": [
            "Warning: Looks like you're using an outdated API Version, please consider updating (server 1.5.6 / client 1.5.4)\n",
            "Downloading gppd_120_pr.csv to /content\n",
            "  0% 0.00/10.2k [00:00<?, ?B/s]\n",
            "100% 10.2k/10.2k [00:00<00:00, 4.19MB/s]\n",
            "Downloading s5p_no2_20180717T161233_20180723T175248.tif.zip to /content\n",
            "  0% 0.00/3.19M [00:00<?, ?B/s]\n",
            "100% 3.19M/3.19M [00:00<00:00, 106MB/s]\n",
            "Downloading s5p_no2_20180711T162527_20180718T185658.tif.zip to /content\n",
            "  0% 0.00/3.49M [00:00<?, ?B/s]\n",
            "100% 3.49M/3.49M [00:00<00:00, 115MB/s]\n",
            "Downloading s5p_no2_20180704T165720_20180710T184641.tif.zip to /content\n",
            "100% 4.13M/4.13M [00:00<00:00, 11.8MB/s]\n",
            "\n",
            "Downloading s5p_no2_20180713T172849_20180719T201407.tif.zip to /content\n",
            "  0% 0.00/3.09M [00:00<?, ?B/s]\n",
            "100% 3.09M/3.09M [00:00<00:00, 102MB/s]\n",
            "Downloading s5p_no2_20180707T160011_20180713T174831.tif.zip to /content\n",
            "  0% 0.00/0.98M [00:00<?, ?B/s]\n",
            "100% 0.98M/0.98M [00:00<00:00, 57.8MB/s]\n",
            "Downloading s5p_no2_20180705T163817_20180712T105412.tif.zip to /content\n",
            "  0% 0.00/3.89M [00:00<?, ?B/s]\n",
            "100% 3.89M/3.89M [00:00<00:00, 129MB/s]\n",
            "Downloading s5p_no2_20180716T163137_20180722T180949.tif.zip to /content\n",
            "  0% 0.00/3.64M [00:00<?, ?B/s]\n",
            "100% 3.64M/3.64M [00:00<00:00, 120MB/s]\n",
            "Downloading s5p_no2_20180715T165041_20180721T182929.tif.zip to /content\n",
            "100% 4.11M/4.11M [00:00<00:00, 15.9MB/s]\n",
            "\n",
            "Downloading s5p_no2_20180719T171554_20180725T185631.tif.zip to /content\n",
            "  0% 0.00/3.41M [00:00<?, ?B/s]\n",
            "100% 3.41M/3.41M [00:00<00:00, 109MB/s]\n",
            "Downloading s5p_no2_20180712T160623_20180719T105633.tif.zip to /content\n",
            "  0% 0.00/3.23M [00:00<?, ?B/s]\n",
            "100% 3.23M/3.23M [00:00<00:00, 106MB/s]\n",
            "Downloading s5p_no2_20180710T164430_20180716T182411.tif.zip to /content\n",
            "100% 4.02M/4.02M [00:00<00:00, 18.6MB/s]\n",
            "\n",
            "Downloading s5p_no2_20180707T174140_20180713T191854.tif.zip to /content\n",
            "  0% 0.00/3.01M [00:00<?, ?B/s]\n",
            "100% 3.01M/3.01M [00:00<00:00, 99.3MB/s]\n",
            "Downloading s5p_no2_20180714T170945_20180720T185244.tif.zip to /content\n",
            "  0% 0.00/3.82M [00:00<?, ?B/s]\n",
            "100% 3.82M/3.82M [00:00<00:00, 127MB/s]\n",
            "Downloading s5p_no2_20180701T161259_20180707T175356.tif.zip to /content\n",
            "  0% 0.00/3.20M [00:00<?, ?B/s]\n",
            "100% 3.20M/3.20M [00:00<00:00, 106MB/s]\n",
            "Downloading s5p_no2_20180702T173526_20180708T192358.tif.zip to /content\n",
            "  0% 0.00/2.88M [00:00<?, ?B/s]\n",
            "100% 2.88M/2.88M [00:00<00:00, 93.9MB/s]\n",
            "Downloading s5p_no2_20180718T173458_20180724T193016.tif.zip to /content\n",
            "  0% 0.00/2.88M [00:00<?, ?B/s]\n",
            "100% 2.88M/2.88M [00:00<00:00, 94.2MB/s]\n",
            "Downloading s5p_no2_20180708T172237_20180714T190743.tif.zip to /content\n",
            "  0% 0.00/3.13M [00:00<?, ?B/s]\n",
            "100% 3.13M/3.13M [00:00<00:00, 102MB/s]\n",
            "Downloading s5p_no2_20180712T174753_20180719T105625.tif.zip to /content\n",
            "  0% 0.00/1.16M [00:00<?, ?B/s]\n",
            "100% 1.16M/1.16M [00:00<00:00, 76.6MB/s]\n",
            "Downloading s5p_no2_20180709T170334_20180715T184729.tif to /content\n",
            "  0% 0.00/945k [00:00<?, ?B/s]\n",
            "100% 945k/945k [00:00<00:00, 63.1MB/s]\n",
            "Downloading s5p_no2_20180706T161914_20180712T200737.tif.zip to /content\n",
            "  0% 0.00/3.31M [00:00<?, ?B/s]\n",
            "100% 3.31M/3.31M [00:00<00:00, 109MB/s]\n",
            "Downloading gfs_2018070100.tif to /content\n",
            "  0% 0.00/469k [00:00<?, ?B/s]\n",
            "100% 469k/469k [00:00<00:00, 66.4MB/s]\n",
            "Downloading gfs_2018070418.tif to /content\n",
            "  0% 0.00/471k [00:00<?, ?B/s]\n",
            "100% 471k/471k [00:00<00:00, 66.0MB/s]\n",
            "Downloading gfs_2018070106.tif to /content\n",
            "  0% 0.00/462k [00:00<?, ?B/s]\n",
            "100% 462k/462k [00:00<00:00, 62.5MB/s]\n",
            "Downloading gfs_2018070218.tif to /content\n",
            "  0% 0.00/474k [00:00<?, ?B/s]\n",
            "100% 474k/474k [00:00<00:00, 67.7MB/s]\n",
            "Downloading gfs_2018070206.tif to /content\n",
            "  0% 0.00/467k [00:00<?, ?B/s]\n",
            "100% 467k/467k [00:00<00:00, 64.6MB/s]\n",
            "Downloading gfs_2018070306.tif to /content\n",
            "  0% 0.00/469k [00:00<?, ?B/s]\n",
            "100% 469k/469k [00:00<00:00, 65.3MB/s]\n",
            "Downloading gfs_2018070518.tif to /content\n",
            "  0% 0.00/466k [00:00<?, ?B/s]\n",
            "100% 466k/466k [00:00<00:00, 64.4MB/s]\n",
            "Downloading gfs_2018070412.tif to /content\n",
            "  0% 0.00/458k [00:00<?, ?B/s]\n",
            "100% 458k/458k [00:00<00:00, 64.5MB/s]\n",
            "Downloading gfs_2018070312.tif to /content\n",
            "  0% 0.00/453k [00:00<?, ?B/s]\n",
            "100% 453k/453k [00:00<00:00, 61.2MB/s]\n",
            "Downloading gfs_2018070512.tif to /content\n",
            "  0% 0.00/460k [00:00<?, ?B/s]\n",
            "100% 460k/460k [00:00<00:00, 61.6MB/s]\n",
            "Downloading gfs_2018070400.tif to /content\n",
            "  0% 0.00/470k [00:00<?, ?B/s]\n",
            "100% 470k/470k [00:00<00:00, 65.8MB/s]\n",
            "Downloading gfs_2018070200.tif to /content\n",
            "  0% 0.00/464k [00:00<?, ?B/s]\n",
            "100% 464k/464k [00:00<00:00, 55.2MB/s]\n",
            "Downloading gfs_2018070112.tif to /content\n",
            "  0% 0.00/469k [00:00<?, ?B/s]\n",
            "100% 469k/469k [00:00<00:00, 63.9MB/s]\n",
            "Downloading gfs_2018070300.tif to /content\n",
            "  0% 0.00/468k [00:00<?, ?B/s]\n",
            "100% 468k/468k [00:00<00:00, 66.6MB/s]\n",
            "Downloading gfs_2018070506.tif to /content\n",
            "  0% 0.00/456k [00:00<?, ?B/s]\n",
            "100% 456k/456k [00:00<00:00, 64.5MB/s]\n",
            "Downloading gfs_2018070318.tif to /content\n",
            "  0% 0.00/477k [00:00<?, ?B/s]\n",
            "100% 477k/477k [00:00<00:00, 61.8MB/s]\n",
            "Downloading gfs_2018070500.tif to /content\n",
            "  0% 0.00/458k [00:00<?, ?B/s]\n",
            "100% 458k/458k [00:00<00:00, 59.1MB/s]\n",
            "Downloading gfs_2018070212.tif to /content\n",
            "  0% 0.00/461k [00:00<?, ?B/s]\n",
            "100% 461k/461k [00:00<00:00, 64.8MB/s]\n",
            "Downloading gfs_2018070118.tif to /content\n",
            "  0% 0.00/475k [00:00<?, ?B/s]\n",
            "100% 475k/475k [00:00<00:00, 63.3MB/s]\n",
            "Downloading gfs_2018070406.tif to /content\n",
            "  0% 0.00/460k [00:00<?, ?B/s]\n",
            "100% 460k/460k [00:00<00:00, 64.9MB/s]\n",
            "Downloading gldas_20180701_0600.tif to /content\n",
            "  0% 0.00/258k [00:00<?, ?B/s]\n",
            "100% 258k/258k [00:00<00:00, 83.7MB/s]\n",
            "Downloading gldas_20180703_0000.tif to /content\n",
            "  0% 0.00/287k [00:00<?, ?B/s]\n",
            "100% 287k/287k [00:00<00:00, 89.1MB/s]\n",
            "Downloading gldas_20180703_0900.tif to /content\n",
            "  0% 0.00/256k [00:00<?, ?B/s]\n",
            "100% 256k/256k [00:00<00:00, 83.5MB/s]\n",
            "Downloading gldas_20180701_1200.tif to /content\n",
            "  0% 0.00/282k [00:00<?, ?B/s]\n",
            "100% 282k/282k [00:00<00:00, 86.6MB/s]\n",
            "Downloading gldas_20180701_0300.tif to /content\n",
            "  0% 0.00/254k [00:00<?, ?B/s]\n",
            "100% 254k/254k [00:00<00:00, 80.4MB/s]\n",
            "Downloading gldas_20180702_0600.tif to /content\n",
            "  0% 0.00/249k [00:00<?, ?B/s]\n",
            "100% 249k/249k [00:00<00:00, 88.4MB/s]\n",
            "Downloading gldas_20180702_0900.tif to /content\n",
            "  0% 0.00/249k [00:00<?, ?B/s]\n",
            "100% 249k/249k [00:00<00:00, 81.5MB/s]\n",
            "Downloading gldas_20180702_0300.tif to /content\n",
            "  0% 0.00/254k [00:00<?, ?B/s]\n",
            "100% 254k/254k [00:00<00:00, 83.3MB/s]\n",
            "Downloading gldas_20180702_1500.tif to /content\n",
            "  0% 0.00/286k [00:00<?, ?B/s]\n",
            "100% 286k/286k [00:00<00:00, 92.1MB/s]\n",
            "Downloading gldas_20180701_1500.tif to /content\n",
            "  0% 0.00/283k [00:00<?, ?B/s]\n",
            "100% 283k/283k [00:00<00:00, 95.4MB/s]\n",
            "Downloading gldas_20180701_0000.tif to /content\n",
            "  0% 0.00/287k [00:00<?, ?B/s]\n",
            "100% 287k/287k [00:00<00:00, 95.2MB/s]\n",
            "Downloading gldas_20180701_2100.tif to /content\n",
            "  0% 0.00/287k [00:00<?, ?B/s]\n",
            "100% 287k/287k [00:00<00:00, 94.2MB/s]\n",
            "Downloading gldas_20180702_2100.tif to /content\n",
            "  0% 0.00/287k [00:00<?, ?B/s]\n",
            "100% 287k/287k [00:00<00:00, 93.6MB/s]\n",
            "Downloading gldas_20180702_1800.tif to /content\n",
            "  0% 0.00/287k [00:00<?, ?B/s]\n",
            "100% 287k/287k [00:00<00:00, 95.4MB/s]\n",
            "Downloading gldas_20180703_0300.tif to /content\n",
            "  0% 0.00/266k [00:00<?, ?B/s]\n",
            "100% 266k/266k [00:00<00:00, 92.8MB/s]\n",
            "Downloading gldas_20180701_0900.tif to /content\n",
            "  0% 0.00/254k [00:00<?, ?B/s]\n",
            "100% 254k/254k [00:00<00:00, 78.1MB/s]\n",
            "Downloading gldas_20180703_0600.tif to /content\n",
            "  0% 0.00/257k [00:00<?, ?B/s]\n",
            "100% 257k/257k [00:00<00:00, 82.9MB/s]\n",
            "Downloading gldas_20180702_0000.tif to /content\n",
            "  0% 0.00/285k [00:00<?, ?B/s]\n",
            "100% 285k/285k [00:00<00:00, 86.5MB/s]\n",
            "Downloading gldas_20180701_1800.tif to /content\n",
            "  0% 0.00/280k [00:00<?, ?B/s]\n",
            "100% 280k/280k [00:00<00:00, 91.9MB/s]\n",
            "Downloading gldas_20180702_1200.tif to /content\n",
            "  0% 0.00/285k [00:00<?, ?B/s]\n",
            "100% 285k/285k [00:00<00:00, 87.7MB/s]\n",
            "mv: cannot move 'gfs' to a subdirectory of itself, 'gfs/gfs'\n",
            "mv: cannot move 'gldas' to a subdirectory of itself, 'gldas/gldas'\n",
            "mv: target 's5p_no2/' is not a directory\n",
            "\n",
            "19 archives were successfully processed.\n",
            "mv: cannot move 'gppd' to a subdirectory of itself, 'gppd/gppd'\n"
          ],
          "name": "stdout"
        }
      ]
    },
    {
      "cell_type": "markdown",
      "metadata": {
        "id": "pnyVpDjnWaFw"
      },
      "source": [
        "Imports:"
      ]
    },
    {
      "cell_type": "code",
      "metadata": {
        "id": "NPs0tZRAWZHJ"
      },
      "source": [
        "import numpy as np\n",
        "import pandas as pd\n",
        "import matplotlib.pyplot as plt\n",
        "import os\n",
        "import rasterio as rio\n",
        "import folium\n",
        "import glob\n",
        "import ee\n",
        "from google.oauth2.credentials import Credentials"
      ],
      "execution_count": null,
      "outputs": []
    },
    {
      "cell_type": "markdown",
      "metadata": {
        "id": "6GPxCPJ6BPj0"
      },
      "source": [
        "Google Earth Engine Set Up"
      ]
    },
    {
      "cell_type": "code",
      "metadata": {
        "id": "dUgVsxZPD4Nu",
        "outputId": "165ba204-928a-443b-eaa8-317fb062eca6",
        "colab": {
          "base_uri": "https://localhost:8080/",
          "height": 178
        }
      },
      "source": [
        "ee.Authenticate()"
      ],
      "execution_count": null,
      "outputs": [
        {
          "output_type": "stream",
          "text": [
            "To authorize access needed by Earth Engine, open the following URL in a web browser and follow the instructions. If the web browser does not start automatically, please manually browse the URL below.\n",
            "\n",
            "    https://accounts.google.com/o/oauth2/auth?client_id=517222506229-vsmmajv00ul0bs7p89v5m89qs8eb9359.apps.googleusercontent.com&scope=https%3A%2F%2Fwww.googleapis.com%2Fauth%2Fearthengine+https%3A%2F%2Fwww.googleapis.com%2Fauth%2Fdevstorage.full_control&redirect_uri=urn%3Aietf%3Awg%3Aoauth%3A2.0%3Aoob&response_type=code&code_challenge=hs9ET9o0nEH00LZhVBQHVeNMULwwAmr8J5b5apFRkdA&code_challenge_method=S256\n",
            "\n",
            "The authorization workflow will generate a code, which you should paste in the box below. \n",
            "Enter verification code: 4/ywEaHKaQy4ewY2wuJIL6P9TDnscjKO1bLiovui0VuZRiNun22v6f21E\n",
            "\n",
            "Successfully saved authorization token.\n"
          ],
          "name": "stdout"
        }
      ]
    },
    {
      "cell_type": "code",
      "metadata": {
        "id": "dop0a4TO3F7G"
      },
      "source": [
        "!cat ~/.config/earthengine/credentials\n",
        "creds = !cat ~/.config/earthengine/credentials\n",
        "creds = creds[0]\n",
        "creds = creds.split(sep=\"\\\"\")\n",
        "creds = creds[3]"
      ],
      "execution_count": null,
      "outputs": []
    },
    {
      "cell_type": "code",
      "metadata": {
        "id": "6PwjJ3XS3d6W"
      },
      "source": [
        "credentials = Credentials(\n",
        "        None,\n",
        "        refresh_token=creds,\n",
        "        token_uri=ee.oauth.TOKEN_URI,\n",
        "        client_id=ee.oauth.CLIENT_ID,\n",
        "        client_secret=ee.oauth.CLIENT_SECRET,\n",
        "        scopes=ee.oauth.SCOPES)\n",
        "ee.Initialize(credentials=credentials)"
      ],
      "execution_count": null,
      "outputs": []
    },
    {
      "cell_type": "markdown",
      "metadata": {
        "id": "7iC8Ih1fFyhq"
      },
      "source": [
        "# Emission Factor Exploration \n",
        "\n",
        "The goal is to explore and hopefully form a methodology to calculate the enivromental impact of an anthropogenic (human caused) activity on the surface of the Earth. This will be focused on atmospheric pollution but the methodology can be further applied to more forms of anthropogenic pollution, such as water and soil. \n",
        "Among the literature this enviromental impact is referred to as an *emission factor* of an activity.\n",
        "\n",
        "As inspired by the [Kaggle competition](https://www.kaggle.com/c/ds4g-environmental-insights-explorer/data)\n",
        "\n",
        "We will be focusig on the emission factor due to electricity generation. Beginning with an exploration of the competition's available data. This data focusses on Puerto Rico, with its size, location and data it provides suitable refernce for initial data exploration.\n",
        "\n",
        "The overall goal is to calculate the following:\n",
        "\n",
        "$EF = \\frac{E}{A\\cdot(1-\\frac{ER}{100})}\\tag1$\n",
        "\n",
        "where: EF - emission factor, E - emmisions, A - activity rate\n",
        "\n",
        "Throughout this project we will be focusing on $NO_2$ emissions using the [Sentinel-5P OFFL NO2](https://developers.google.com/earth-engine/datasets/catalog/COPERNICUS_S5P_OFFL_L3_NO2) dataset for the atmospheric $NO_2$ levels."
      ]
    },
    {
      "cell_type": "markdown",
      "metadata": {
        "id": "KSgYAJMkBry_"
      },
      "source": [
        "#Data Exploration"
      ]
    },
    {
      "cell_type": "markdown",
      "metadata": {
        "id": "tfOZrt2c25QU"
      },
      "source": [
        "Helper Functions"
      ]
    },
    {
      "cell_type": "code",
      "metadata": {
        "id": "pB58QDyUBpub"
      },
      "source": [
        "# adapted from:\n",
        "# https://www.kaggle.com/paultimothymooney/how-to-get-started-with-the-earth-engine-data/comments\n",
        "\n",
        "def create_map(latitude,longitude,zoom):\n",
        "  location = [latitude,longitude]\n",
        "  m = folium.Map(location=location,zoom_start=zoom)\n",
        "  return m\n",
        "\n",
        "# plot the generating station over the map of puerto rico\n",
        "def \n",
        "_on_map(dataframe,begin_index,end_index,latitude_column,latitude,longitude_column,longitude,zoom):\n",
        "    df = dataframe[begin_index:end_index]\n",
        "    m = create_map(latitude,longitude,zoom)\n",
        "    for i in range(0,len(df)):\n",
        "        popup = folium.Popup(str(df.primary_fuel[i:i+1]))\n",
        "        lat = df[latitude_column].iloc[i]\n",
        "        lon = df[longitude_column].iloc[i]\n",
        "        folium.Circle(\n",
        "          radius=100,\n",
        "          location=[lat, lon],\n",
        "          popup=popup,\n",
        "          color='crimson',\n",
        "          fill=False,\n",
        "        ).add_to(m)\n",
        "        \n",
        "    return(m)\n",
        "\n",
        "# overlay remote sensing data on the map of puerto rico\n",
        "def overlay_image_on_puerto_rico(file_name,band_layer):\n",
        "    band = rio.open(file_name).read(band_layer)\n",
        "    m = create_map(latitude,longitude,zoom)\n",
        "    folium.raster_layers.ImageOverlay(\n",
        "        image=band,\n",
        "        bounds = [[18.6,-67.3,],[17.9,-65.2]],\n",
        "        colormap=lambda x: (1, x, 0, x),\n",
        "    ).add_to(m)\n",
        "    return m\n",
        "\n",
        "# combination of the two functions above, overlay with generating stations\n",
        "def points_overlay_on_map(dataframe,begin_index,end_index,latitude_column,latitude_value,longitude_column,longitude_value,zoom,file_name,band_layer):\n",
        "    df = dataframe[begin_index:end_index] # re-index, for subsetting the plot\n",
        "    location = [latitude_value,longitude_value]\n",
        "    m = folium.Map(location=location,zoom_start=zoom) # build the folium map \n",
        "    for i in range(0,len(df)): # plot the generating facilities\n",
        "        popup = folium.Popup(str(df.primary_fuel[i:i+1]))\n",
        "        # folium.Marker([df[latitude_column].iloc[i],df[longitude_column].iloc[i]],popup=popup).add_to(m)\n",
        "        lat = df[latitude_column].iloc[i]\n",
        "        lon = df[longitude_column].iloc[i]\n",
        "        folium.Circle(\n",
        "          radius=100,\n",
        "          location=[lat, lon],\n",
        "          popup=popup,\n",
        "          color='crimson',\n",
        "          fill=False,\n",
        "        ).add_to(m)\n",
        "\n",
        "    # plot the overlay of the selected band\n",
        "    band = rio.open(file_name).read(band_layer)\n",
        "    folium.raster_layers.ImageOverlay(  \n",
        "        image=band,\n",
        "        bounds = [[18.6,-67.3,],[17.9,-65.2]],\n",
        "        colormap=lambda x: (1, x, 0, x),\n",
        "    ).add_to(m)\n",
        "    return m \n",
        "\n",
        "def add_ee_layer(self, ee_image_object, vis_params, name):\n",
        "  # adapted from https://github.com/google/earthengine-api/blob/master/python/examples/ipynb/ee-api-colab-setup.ipynb\n",
        "  map_id_dict = ee.Image(ee_image_object).getMapId(vis_params)\n",
        "  folium.raster_layers.TileLayer(\n",
        "    tiles = map_id_dict['tile_fetcher'].url_format,\n",
        "    attr = 'Map Data &copy; <a href=\"https://earthengine.google.com/\">Google Earth Engine</a>',\n",
        "    name = name,\n",
        "    overlay = True,\n",
        "    control = True\n",
        "  ).add_to(self)\n",
        "\n",
        "def plot_ee_data_on_map(dataset,column,begin_date,end_date,minimum_value,maximum_value,latitude,longitude,zoom):\n",
        "    # adapted from https://github.com/google/earthengine-api/blob/master/python/examples/ipynb/ee-api-colab-setup.ipynb\n",
        "    # Add EE drawing method to folium.\n",
        "    folium.Map.add_ee_layer = add_ee_layer\n",
        "    vis_params = {\n",
        "      'min': minimum_value,\n",
        "      'max': maximum_value,\n",
        "      'palette': ['006633', 'E5FFCC', '662A00', 'D8D8D8', 'F5F5F5']}\n",
        "    my_map = folium.Map(location=[latitude,longitude], zoom_start=zoom, height=500)\n",
        "    data = ee.ImageCollection(dataset).filterDate(\n",
        "        begin_date, end_date)\n",
        "    my_map.add_ee_layer(data.first().select(column), vis_params, 'Color')\n",
        "    my_map.add_child(folium.LayerControl())\n",
        "    display(my_map)\n",
        "\n",
        "def plot_ee_data_on_map_simple(dataset,minimum_value,maximum_value,latitude,longitude,zoom):\n",
        "    # adapted from https://github.com/google/earthengine-api/blob/master/python/examples/ipynb/ee-api-colab-setup.ipynb\n",
        "    folium.Map.add_ee_layer = add_ee_layer\n",
        "    vis_params = {\n",
        "      'min': minimum_value,\n",
        "      'max': maximum_value,\n",
        "      'palette': ['black', 'blue', 'purple', 'cyan', 'green', 'yellow', 'red']}\n",
        "    my_map = folium.Map(location=[latitude,longitude], zoom_start=zoom, height=500)\n",
        "    my_map.add_ee_layer(dataset, vis_params, 'Color')\n",
        "    my_map.add_child(folium.LayerControl())\n",
        "    display(my_map)\n",
        "\n",
        "# Print the metadata given a tiff file\n",
        "def meta_data(file_name):\n",
        "  with rio.open(file_name) as img_filename:\n",
        "      print('Metadata for: ',file_name)\n",
        "      print('Bounding Box:',img_filename.bounds)\n",
        "      print('Resolution:',img_filename.res)\n",
        "      print('Tags:',img_filename.tags())\n",
        "      print('More Tags:',img_filename.tags(ns='IMAGE_STRUCTURE'))\n",
        "      print('Number of Channels =',img_filename.count,'\\n')\n",
        "\n",
        "# Helper functions:\n",
        "def plot_scaled(file_name):\n",
        "    vmin, vmax = np.nanpercentile(file_name, (5,95))  # 5-95% stretch\n",
        "    img_plt = plt.imshow(file_name, cmap='gray', vmin=vmin, vmax=vmax)\n",
        "    plt.show()\n",
        "def split_column_into_new_columns(dataframe,column_to_split,new_column_one,begin_column_one,end_column_one):\n",
        "    for i in range(0, len(dataframe)):\n",
        "        dataframe.loc[i, new_column_one] = dataframe.loc[i, column_to_split][begin_column_one:end_column_one]\n",
        "    return dataframe"
      ],
      "execution_count": null,
      "outputs": []
    },
    {
      "cell_type": "markdown",
      "metadata": {
        "id": "rlCH5B9cwCPI"
      },
      "source": [
        "##Data Discussion:\n",
        "The initial data present on the Kaggle competion provided a resonable start but with the complexity of the problem at hand, a larger larger frame of reference is needed. This being said we will keep focus on more data allows for further expansion to other parts of the world."
      ]
    },
    {
      "cell_type": "markdown",
      "metadata": {
        "id": "VsXs-rJVEl4X"
      },
      "source": [
        "## **gppd**: global power plant database"
      ]
    },
    {
      "cell_type": "markdown",
      "metadata": {
        "id": "KV7ookAkaZoo"
      },
      "source": [
        "The gppd presents information regarding hundreds of power plants around the world."
      ]
    },
    {
      "cell_type": "code",
      "metadata": {
        "id": "wiL_9_3EEyYx",
        "outputId": "cbc5c5af-9557-4f8e-e86e-aa04ff7c3452",
        "colab": {
          "base_uri": "https://localhost:8080/",
          "height": 394
        }
      },
      "source": [
        "power_plants = pd.read_csv('gppd/gppd_120_pr.csv')\n",
        "power_plants = split_column_into_new_columns(power_plants,'.geo','latitude',50,66)\n",
        "power_plants = split_column_into_new_columns(power_plants,'.geo','longitude',31,48)\n",
        "power_plants['latitude'] = power_plants['latitude'].astype(float)\n",
        "power_plants['longitude'] = power_plants['longitude'].astype(float)\n",
        "a = np.array(power_plants['latitude'].values.tolist()) # 18 instead of 8\n",
        "power_plants['latitude'] = np.where(a < 10, a+10, a).tolist() \n",
        "lat=18.200178; lon=-66.664513\n",
        "plot_points_on_map(power_plants,0,425,'latitude',lat,'longitude',lon,9)"
      ],
      "execution_count": null,
      "outputs": [
        {
          "output_type": "execute_result",
          "data": {
            "text/html": [
              "<div style=\"width:100%;\"><div style=\"position:relative;width:100%;height:0;padding-bottom:60%;\"><iframe src=\"about:blank\" style=\"position:absolute;width:100%;height:100%;left:0;top:0;border:none !important;\" data-html=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 onload=\"this.contentDocument.open();this.contentDocument.write(atob(this.getAttribute('data-html')));this.contentDocument.close();\" allowfullscreen webkitallowfullscreen mozallowfullscreen></iframe></div></div>"
            ],
            "text/plain": [
              "<folium.folium.Map at 0x7ff43e9c4be0>"
            ]
          },
          "metadata": {
            "tags": []
          },
          "execution_count": 47
        }
      ]
    },
    {
      "cell_type": "markdown",
      "metadata": {
        "id": "GIQQM3anWtN4"
      },
      "source": [
        "##**gfs**: Global Forcast System\n",
        "This set includes remote sensing data of a regions weather data. 6 available bands.\n",
        "\n",
        "Source: https://developers.google.com/earth-engine/datasets/catalog/NOAA_GFS0P25 "
      ]
    },
    {
      "cell_type": "code",
      "metadata": {
        "id": "iiD0sEll9kaI",
        "outputId": "0f7c6ed3-3c09-48e7-e3b5-232a58990398",
        "colab": {
          "base_uri": "https://localhost:8080/",
          "height": 546
        }
      },
      "source": [
        "band_num = 1\n",
        "image = '/content/gfs/gfs_2018070100.tif'\n",
        "\n",
        "image_band = rio.open(image).read(band_num)\n",
        "plot_scaled(image_band)\n",
        "overlay_image_on_puerto_rico(image,band_layer=band_num)\n",
        "# points_overlay_on_map(power_plants,0,425,'latitude',lat,'longitude',lon,9,image,band_layer=band_num)"
      ],
      "execution_count": null,
      "outputs": [
        {
          "output_type": "display_data",
          "data": {
            "image/png": "[encoded data removed]",
            "text/plain": [
              "<Figure size 432x288 with 1 Axes>"
            ]
          },
          "metadata": {
            "tags": [],
            "needs_background": "light"
          }
        },
        {
          "output_type": "execute_result",
          "data": {
            "text/html": [
              "<div style=\"width:100%;\"><div style=\"position:relative;width:100%;height:0;padding-bottom:60%;\"><iframe src=\"about:blank\" style=\"position:absolute;width:100%;height:100%;left:0;top:0;border:none !important;\" data-html=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 onload=\"this.contentDocument.open();this.contentDocument.write(atob(this.getAttribute('data-html')));this.contentDocument.close();\" allowfullscreen webkitallowfullscreen mozallowfullscreen></iframe></div></div>"
            ],
            "text/plain": [
              "<folium.folium.Map at 0x7f04d9215438>"
            ]
          },
          "metadata": {
            "tags": []
          },
          "execution_count": 55
        }
      ]
    },
    {
      "cell_type": "code",
      "metadata": {
        "id": "4hm_ioiQ9hu-",
        "outputId": "3c85534c-481d-490b-bf67-02a16d2a6b87",
        "colab": {
          "base_uri": "https://localhost:8080/",
          "height": 394
        }
      },
      "source": [
        "dataset = \"NOAA/GFS0P25\"\n",
        "column = 'u_component_of_wind_10m_above_ground'\n",
        "# column = 'temperature_2m_above_ground'\n",
        "begin_date = '2018-07-08'\n",
        "end_date = '2018-07-14'\n",
        "minimum_value = -10\n",
        "maximum_value = 40\n",
        "latitude = 18.200178\n",
        "longitude = -66.664513\n",
        "zoom = 7.6\n",
        "plot_ee_data_on_map(dataset,column,begin_date,end_date,minimum_value,maximum_value,latitude,longitude,zoom)"
      ],
      "execution_count": null,
      "outputs": [
        {
          "output_type": "display_data",
          "data": {
            "text/html": [
              "<div style=\"width:100%;\"><div style=\"position:relative;width:100%;height:0;padding-bottom:60%;\"><iframe src=\"about:blank\" style=\"position:absolute;width:100%;height:100%;left:0;top:0;border:none !important;\" data-html=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 onload=\"this.contentDocument.open();this.contentDocument.write(atob(this.getAttribute('data-html')));this.contentDocument.close();\" allowfullscreen webkitallowfullscreen mozallowfullscreen></iframe></div></div>"
            ],
            "text/plain": [
              "<folium.folium.Map at 0x7ff43ea20ba8>"
            ]
          },
          "metadata": {
            "tags": []
          }
        }
      ]
    },
    {
      "cell_type": "markdown",
      "metadata": {
        "id": "1_krirxiXQlL"
      },
      "source": [
        "##**gldas**: Global Land Data Assimilation System\n",
        "Uses both ground and satellite observations. Only populates land observations."
      ]
    },
    {
      "cell_type": "code",
      "metadata": {
        "id": "z2sTS8QOGQP6",
        "outputId": "65178025-6e2a-43d9-b52c-76be0a0876f9",
        "colab": {
          "base_uri": "https://localhost:8080/",
          "height": 546
        }
      },
      "source": [
        "band_num = 1\n",
        "images = glob.glob('/content/gldas/*.tif')\n",
        "\n",
        "image = '/content/gldas/gldas_20180701_0000.tif'\n",
        "\n",
        "image_band = rio.open(image).read(band_num)\n",
        "plot_scaled(image_band)\n",
        "overlay_image_on_puerto_rico(image,band_layer=band_num)\n",
        "# points_overlay_on_map(power_plants,0,425,'latitude',lat,'longitude',lon,9,image,band_layer=band_num)"
      ],
      "execution_count": null,
      "outputs": [
        {
          "output_type": "display_data",
          "data": {
            "image/png": "[encoded data removed]",
            "text/plain": [
              "<Figure size 432x288 with 1 Axes>"
            ]
          },
          "metadata": {
            "tags": [],
            "needs_background": "light"
          }
        },
        {
          "output_type": "execute_result",
          "data": {
            "text/html": [
              "<div style=\"width:100%;\"><div style=\"position:relative;width:100%;height:0;padding-bottom:60%;\"><iframe src=\"about:blank\" style=\"position:absolute;width:100%;height:100%;left:0;top:0;border:none !important;\" data-html=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 onload=\"this.contentDocument.open();this.contentDocument.write(atob(this.getAttribute('data-html')));this.contentDocument.close();\" allowfullscreen webkitallowfullscreen mozallowfullscreen></iframe></div></div>"
            ],
            "text/plain": [
              "<folium.folium.Map at 0x7f04d95d92e8>"
            ]
          },
          "metadata": {
            "tags": []
          },
          "execution_count": 81
        }
      ]
    },
    {
      "cell_type": "code",
      "metadata": {
        "id": "HUHR8NfG7cD0",
        "outputId": "0dd74e46-e04f-4aaf-b880-c115da44606c",
        "colab": {
          "base_uri": "https://localhost:8080/",
          "height": 407
        }
      },
      "source": [
        "dataset = \"NASA/GLDAS/V021/NOAH/G025/T3H\"\n",
        "column = 'Lwnet_tavg'\n",
        "column = 'Wind_f_inst'\n",
        "begin_date = '2018-07-08'\n",
        "end_date = '2018-07-14'\n",
        "minimum_value = -1000\n",
        "maximum_value = 200\n",
        "latitude = 18.200178\n",
        "longitude = -66.664513\n",
        "zoom = 7.6\n",
        "plot_ee_data_on_map(dataset,column,begin_date,end_date,minimum_value,maximum_value,latitude,longitude,zoom)"
      ],
      "execution_count": null,
      "outputs": [
        {
          "output_type": "display_data",
          "data": {
            "text/html": [
              "<div style=\"width:100%;\"><div style=\"position:relative;width:100%;height:0;padding-bottom:60%;\"><iframe src=\"about:blank\" style=\"position:absolute;width:100%;height:100%;left:0;top:0;border:none !important;\" data-html=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 onload=\"this.contentDocument.open();this.contentDocument.write(atob(this.getAttribute('data-html')));this.contentDocument.close();\" allowfullscreen webkitallowfullscreen mozallowfullscreen></iframe></div></div>"
            ],
            "text/plain": [
              "<folium.folium.Map at 0x7f04d93df438>"
            ]
          },
          "metadata": {
            "tags": []
          }
        }
      ]
    },
    {
      "cell_type": "markdown",
      "metadata": {
        "id": "q2yL4XJs656u"
      },
      "source": [
        "##**s5p_NO2**: Sentinel-5P OFFL NO2: Offline Nitrogen Dioxide ($NO_2$)"
      ]
    },
    {
      "cell_type": "code",
      "metadata": {
        "id": "L8yvNE8RRUik",
        "outputId": "61c25cec-3032-4de3-b5cb-861059356c0f",
        "colab": {
          "base_uri": "https://localhost:8080/",
          "height": 546
        }
      },
      "source": [
        "band_num = 1\n",
        "image = '/content/s5p/s5p_no2_20180701T161259_20180707T175356.tif'\n",
        "\n",
        "image_band = rio.open(image).read(band_num)\n",
        "plot_scaled(image_band)\n",
        "overlay_image_on_puerto_rico(image,band_layer=band_num)\n",
        "# points_overlay_on_map(power_plants,0,425,'latitude',lat,'longitude',lon,9,image,band_layer=band_num)"
      ],
      "execution_count": null,
      "outputs": [
        {
          "output_type": "display_data",
          "data": {
            "image/png": "[encoded data removed]",
            "text/plain": [
              "<Figure size 432x288 with 1 Axes>"
            ]
          },
          "metadata": {
            "tags": [],
            "needs_background": "light"
          }
        },
        {
          "output_type": "execute_result",
          "data": {
            "text/html": [
              "<div style=\"width:100%;\"><div style=\"position:relative;width:100%;height:0;padding-bottom:60%;\"><iframe src=\"about:blank\" style=\"position:absolute;width:100%;height:100%;left:0;top:0;border:none !important;\" data-html=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 onload=\"this.contentDocument.open();this.contentDocument.write(atob(this.getAttribute('data-html')));this.contentDocument.close();\" allowfullscreen webkitallowfullscreen mozallowfullscreen></iframe></div></div>"
            ],
            "text/plain": [
              "<folium.folium.Map at 0x7f04d95b56a0>"
            ]
          },
          "metadata": {
            "tags": []
          },
          "execution_count": 67
        }
      ]
    },
    {
      "cell_type": "code",
      "metadata": {
        "id": "2_6JNEh_lLDi",
        "outputId": "d02fe21d-5c63-4b90-d689-21576c7e8778",
        "colab": {
          "base_uri": "https://localhost:8080/",
          "height": 394
        }
      },
      "source": [
        "\n",
        "\n",
        "def s5p_NO2_overlay(latitude, longitude, initial_date, final_date, band_name):\n",
        "    location = [latitude, longitude]\n",
        "    Map = folium.Map(location=location, zoom_start=7)\n",
        "    band = {'min': 0,\n",
        "            'max': 0.0001,\n",
        "            'palette': ['black', 'blue', 'purple', 'cyan', 'green', 'yellow', 'red'],\n",
        "            'opacity':0.5}\n",
        "    s5p_no2 = (ee.ImageCollection('COPERNICUS/S5P/OFFL/L3_NO2')\n",
        "              .select(band_name)\n",
        "              .filterDate(startdate, finishdate)\n",
        "             )\n",
        "    Map.add_ee_layer(ee_s5p_no2.mean(), band, 'S5P_NO2')\n",
        "    Map.add_child(folium.LayerControl())\n",
        "    return Map\n",
        "startdate = '2019-10-01'\n",
        "finishdate = '2019-10-14'\n",
        "latitude = 18.20\n",
        "longitude = -66.66\n",
        "band = 'tropospheric_NO2_column_number_density'\n",
        "\n",
        "#Sentinel-5P OFFL NO2: Offline Nitrogen Dioxide\n",
        "s5p_NO2_overlay(latitude,longitude,startdate,finishdate,band)"
      ],
      "execution_count": null,
      "outputs": [
        {
          "output_type": "execute_result",
          "data": {
            "text/html": [
              "<div style=\"width:100%;\"><div style=\"position:relative;width:100%;height:0;padding-bottom:60%;\"><iframe src=\"about:blank\" style=\"position:absolute;width:100%;height:100%;left:0;top:0;border:none !important;\" data-html=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 onload=\"this.contentDocument.open();this.contentDocument.write(atob(this.getAttribute('data-html')));this.contentDocument.close();\" allowfullscreen webkitallowfullscreen mozallowfullscreen></iframe></div></div>"
            ],
            "text/plain": [
              "<folium.folium.Map at 0x7ff43ec44f28>"
            ]
          },
          "metadata": {
            "tags": []
          },
          "execution_count": 25
        }
      ]
    },
    {
      "cell_type": "code",
      "metadata": {
        "id": "r8avYjVlvBK8",
        "outputId": "74fab8f1-d884-47ac-f6bd-927971e2c53e",
        "colab": {
          "base_uri": "https://localhost:8080/",
          "height": 402
        }
      },
      "source": [
        "\n",
        "\n",
        "meta_data('/content/gldas/gldas_20180701_0600.tif')\n",
        "meta_data('/content/gfs/gfs_2018070100.tif')\n",
        "meta_data('/content/s5p/s5p_no2_20180701T161259_20180707T175356.tif')\n"
      ],
      "execution_count": null,
      "outputs": [
        {
          "output_type": "stream",
          "text": [
            "Metadata for:  /content/gldas/gldas_20180701_0600.tif\n",
            "Bounding Box: BoundingBox(left=-67.32431391288841, bottom=17.901215296567198, right=-65.19081511310455, top=18.565968606815645)\n",
            "Resolution: (0.004491576420597608, 0.004491576420597608)\n",
            "Tags: {'AREA_OR_POINT': 'Area'}\n",
            "More Tags: {'COMPRESSION': 'LZW', 'INTERLEAVE': 'PIXEL'}\n",
            "Number of Channels = 12 \n",
            "\n",
            "Metadata for:  /content/gfs/gfs_2018070100.tif\n",
            "Bounding Box: BoundingBox(left=-67.32354977311168, bottom=17.900451156790464, right=-65.19005097332781, top=18.56520446703891)\n",
            "Resolution: (0.004491576420597608, 0.004491576420597608)\n",
            "Tags: {'AREA_OR_POINT': 'Area'}\n",
            "More Tags: {'COMPRESSION': 'LZW', 'INTERLEAVE': 'PIXEL'}\n",
            "Number of Channels = 6 \n",
            "\n",
            "Metadata for:  /content/s5p/s5p_no2_20180701T161259_20180707T175356.tif\n",
            "Bounding Box: BoundingBox(left=-67.32431391288841, bottom=18.564903861343627, right=-65.19081511310455, top=17.90015055109518)\n",
            "Resolution: (0.004491576420597608, -0.004491576420597608)\n",
            "Tags: {'AREA_OR_POINT': 'Area'}\n",
            "More Tags: {'COMPRESSION': 'LZW', 'INTERLEAVE': 'PIXEL'}\n",
            "Number of Channels = 12 \n",
            "\n"
          ],
          "name": "stdout"
        }
      ]
    },
    {
      "cell_type": "markdown",
      "metadata": {
        "id": "yWjbL_I9w2D3"
      },
      "source": [
        "##**gpwv411**: Population Density (Gridded Population of the World Version 4.11)"
      ]
    },
    {
      "cell_type": "markdown",
      "metadata": {
        "id": "jOEVZMeYxB1W"
      },
      "source": [
        "Provides population density organized into a gridded map via google earth engine. The data was generated from internation censuses ranging from 2000 - 2020. We will be using the most recent version of the data.\n",
        "Source: [CIESIN](https://sedac.ciesin.columbia.edu/data/collection/gpw-v4)"
      ]
    },
    {
      "cell_type": "code",
      "metadata": {
        "id": "_nCzKbCpxa8M",
        "outputId": "b2c62a66-a1db-4574-f384-aeb19c6a5e96",
        "colab": {
          "base_uri": "https://localhost:8080/",
          "height": 394
        }
      },
      "source": [
        "dataset = \"CIESIN/GPWv411/GPW_Population_Density\"\n",
        "column = 'population_density'\n",
        "minimum_value = 200\n",
        "maximum_value = 1000\n",
        "latitude = 18.200178\n",
        "longitude = -66.664513\n",
        "zoom = 7.6\n",
        "folium.Map.add_ee_layer = add_ee_layer\n",
        "vis_params = {\n",
        "  'min': minimum_value,\n",
        "  'max': maximum_value,\n",
        "  'palette': ['black', 'blue', 'purple', 'cyan', 'green', 'yellow', 'red'],\n",
        "  'opacity':0.5}\n",
        "my_map = folium.Map(location=[latitude,longitude], zoom_start=zoom, height=500)\n",
        "data = ee.ImageCollection(dataset)\n",
        "my_map.add_ee_layer(data.first().select(column), vis_params, 'Color')\n",
        "my_map.add_child(folium.LayerControl())\n",
        "display(my_map)\n"
      ],
      "execution_count": null,
      "outputs": [
        {
          "output_type": "display_data",
          "data": {
            "text/html": [
              "<div style=\"width:100%;\"><div style=\"position:relative;width:100%;height:0;padding-bottom:60%;\"><iframe src=\"about:blank\" style=\"position:absolute;width:100%;height:100%;left:0;top:0;border:none !important;\" data-html=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 onload=\"this.contentDocument.open();this.contentDocument.write(atob(this.getAttribute('data-html')));this.contentDocument.close();\" allowfullscreen webkitallowfullscreen mozallowfullscreen></iframe></div></div>"
            ],
            "text/plain": [
              "<folium.folium.Map at 0x7ff43ea227f0>"
            ]
          },
          "metadata": {
            "tags": []
          }
        }
      ]
    },
    {
      "cell_type": "markdown",
      "metadata": {
        "id": "f-_zcKKbMBhg"
      },
      "source": [
        "#Model"
      ]
    },
    {
      "cell_type": "markdown",
      "metadata": {
        "id": "RYhRZTQQJ_Y-"
      },
      "source": [
        "\n",
        "After exploring the data and further research into the overall behaviour of $NO_2$, to measure the emissions from a region of interest we take a weighted $NO_2$ reading adjusting for possible interference. When specifying the granularity of the estimation, the ideal situation would be to determine the emission factor for each generating station. This being said we shall create multiple models to evaluate the emission factor over varying time-span and area of origin. Being doubtful of a one-fits-all model, we explore a scaling model by the size of the region. To determine the total emissions we will iteratively perform transformations to remove interference. Then apply a weighting to the region of interest to ensure the the values closest to the station are more significant then the values further away.\n"
      ]
    },
    {
      "cell_type": "markdown",
      "metadata": {
        "id": "3DtQaUhGrVGN"
      },
      "source": [
        "![NO2 Cycle](https://drive.google.com/uc?id=1IjNTntUm3oiQlsMp7tZDKkAtwIiL3sqm)\n",
        "\n",
        "In deciding which features to select for the model we will focus on simplicity in implementation and interpretation to demonstrate the possibility of the proposed model. \n",
        "We can split up features to support different portions of the calculation:\n",
        "\n",
        "$EF = \\frac{E}{A\\cdot(1-\\frac{ER}{100})}\\tag1$\n",
        "\n",
        "> **E** - representing the emissions, since we are discussing $NO_2$ emissions the simplest measurement of a regions emissions would be the satellite reading from above. But this would not be accurate due to interference. Therefore we will select a few features to clean up the interference of the measurement. The following are simple forms of interference:\n",
        "\n",
        "1.   Other sources of $NO_2$. This includes transportation, and residential emissions as well as other high producers ex. other power generating stations, states, countries, continants in close proximity to the region of origin. The smaller the region of origin the smaller the region of interference. To transform the orginal $NO_2$ measurements the other sources will be pixel-wise deducted. \n",
        "\n",
        "2.   Weather attributes. The main interference to reading is the wind, the blowing of the $NO_2$ measurement can skew the emissions substantially. To transform via the wind, the $NO_2$ data will be translated the mean displacement during the time frame.\n",
        "\n",
        "> **A** & **ER** - the activity, extrapolated from power plant datasets, these values will be very plant specific. \n",
        "\n",
        "**Scaling**\n",
        "\n",
        "With data coming from several different satellites, we must be careful with our calculations. Firstly, each satellite has its own resolution in degrees. This represents the arc of each pixel, we use this to determine the single-pixel area."
      ]
    },
    {
      "cell_type": "markdown",
      "metadata": {
        "id": "9no1U2i5dA7J"
      },
      "source": [
        "**Mosaicing**\n",
        "\n",
        "Generating the tiling of thhe satellite imagery into daily images given a timeframe."
      ]
    },
    {
      "cell_type": "code",
      "metadata": {
        "id": "KNK2-5ffdAh-"
      },
      "source": [
        "# adapted from https://www.kaggle.com/niyamatalmass/2-sub-region-and-state-wise-e-f-and-evaluation\n",
        "\n",
        "def tiles_to_mosaics(collection, date, newlist):\n",
        "  \"\"\"\n",
        "  converts the tiles into day into a full mosaic image\n",
        "  \"\"\"\n",
        "  date = ee.Date(date)\n",
        "  newlist = ee.List(newlist)\n",
        "  filtered = collection.filterDate(date, date.advance(1,'day'))\n",
        "  image = ee.Image(filtered.mosaic())\n",
        "\n",
        "  return ee.List(ee.Algorithms.If(filtered.size(), newlist.add(image), newlist))\n",
        "\n",
        "\n",
        "\n",
        "def mosiac_transform(collection, initial_date, final_date):\n",
        "  \"\"\"\n",
        "  param: - collection, an EE ImageCollection\n",
        "         - initial_date (STR), starting date of the time frame\n",
        "         - final_date    (STR), ...\n",
        "  \"\"\"\n",
        "  initial_date = ee.Date(initial_date)\n",
        "  final_date = ee.Date(final_date)\n",
        "\n",
        "  timeframe = final_date.difference(initial_date, 'day') # determine the timeframe\n",
        "  range_date = ee.List.sequence(0, timeframe.subtract(1)).map(lambda day: initial_date.advance(day, 'day'))\n",
        "\n",
        "  def tiles_to_mosaics(date, newlist):\n",
        "    \"\"\"\n",
        "    converts the tiles into day into a full mosaic image\n",
        "    \"\"\"\n",
        "    date = ee.Date(date)\n",
        "    newlist = ee.List(newlist)\n",
        "    filtered = collection.filterDate(date, date.advance(1,'day'))\n",
        "    image = ee.Image(filtered.mosaic())\n",
        "\n",
        "    return ee.List(ee.Algorithms.If(filtered.size(), newlist.add(image), newlist))\n",
        "\n",
        "  return ee.ImageCollection(ee.List(range_date.iterate(tiles_to_mosaics,ee.List([]))))\n"
      ],
      "execution_count": null,
      "outputs": []
    },
    {
      "cell_type": "markdown",
      "metadata": {
        "id": "6wfiZmdarQWO"
      },
      "source": [
        "##Feature Selection"
      ]
    },
    {
      "cell_type": "markdown",
      "metadata": {
        "id": "JaPsMVNFD-IN"
      },
      "source": [
        "**Wind**\n",
        "\n",
        "For wind it is important to note speed and direction it may also be interesting to incorporate precipitation.\n",
        "The wind attributes we used are:\n",
        "* `u_component_of_wind_10m_above_ground` representing the east-west wind speed\n",
        "*`u_component_of_wind_10m_above_ground` similarly representing the north-south wind speed\n",
        "\n",
        "Together these two attributes can create the 2D direction of wind blowing during a given time frame. Furthermore we multiply out seconds per day to determine the total displacement."
      ]
    },
    {
      "cell_type": "code",
      "metadata": {
        "id": "1TCqEPFFIOWd"
      },
      "source": [
        "def get_wind(ROI,initial_date,final_date):\n",
        "  \"\"\"\n",
        "  input:  RoI - Region of Interest\n",
        "          initial_date, final_date - timeframe to observe\n",
        "  output: u_comp_collection, v_comp_collection - ee.ImageCollections, scaled mosiac collections of the u and v components of wind over the timeframe\n",
        "  \"\"\"\n",
        "\n",
        "  u_comp_collection = ee.ImageCollection(\"NOAA/GFS0P25\").select('u_component_of_wind_10m_above_ground').filterDate(initial_date,final_date).filterBounds(ROI)\n",
        "  v_comp_collection = ee.ImageCollection(\"NOAA/GFS0P25\").select('v_component_of_wind_10m_above_ground').filterDate(initial_date,final_date).filterBounds(ROI)\n",
        "  u_comp_collection = mosiac_transform(u_comp_collection,initial_date,final_date)\n",
        "  v_comp_collection = mosiac_transform(v_comp_collection,initial_date,final_date)\n",
        "  #86,400 seconds per day\n",
        "  u_comp_collection = u_comp_collection.map(lambda image: image.multiply(86400)) # m/s -> m\n",
        "  v_comp_collection = v_comp_collection.map(lambda image: image.multiply(86400)) # m/s -> m\n",
        "\n",
        "  return u_comp_collection, v_comp_collection\n"
      ],
      "execution_count": null,
      "outputs": []
    },
    {
      "cell_type": "markdown",
      "metadata": {
        "id": "0nlK0Xk47-or"
      },
      "source": [
        "**Population**\n",
        "\n",
        "With population density, we can extrapolate deduct the emissions caused by residential and city sources. The GPWv411 has a resolution of 30 arc seconds.\n",
        "\n",
        "$30\\text{ arc seconds} =$[0.008333](https://sedac.ciesin.columbia.edu/data/collection/gpw-v4)$^\\circ$ \n",
        "\n",
        "To find the area we assume each observation is square and flat; squaring one edge to get the total $m^2$.\n",
        "\n",
        "$\\frac{\\theta}{360^\\circ}\\cdot2\\pi r = \\frac{0.00833}{360^\\circ}\\cdot2\\pi\\cdot 6371 = 0.92625 km \\rightarrow 0.85793 m^2$\n",
        "\n",
        "To further estimate the $NO_2$ emission, we look at the $NO_x$ (Nitrogen Oxides, which includes $NO_2$ and $NO$) group emissions per capita. We do not need to further distinguish between the chemicals among the $NO_x$ group as the majority is $NO_2$ and there are many contributing factors to determining the other quantities (temperature, time of day, season, etc.). We also will assume these values are constant all year. This introduces inaccuracy since winter emissions are much higher in most parts of the world.\n",
        "\n",
        "[NOx kg per capita per country](https://data.oecd.org/air/air-and-ghg-emissions.htm)\n",
        "\n",
        "![Particularly bad day in LA in the 1960s](https://drive.google.com/uc?id=1b2UdlnEw7fxE3QxnzdwOcoghbQCYfuvt)\n",
        "\n",
        "Environmental Chemistry, 5e, Colin Baird, Michael Cann, 2012  published by the W. H. Freeman and Company in New York\n",
        "\n",
        "\n"
      ]
    },
    {
      "cell_type": "code",
      "metadata": {
        "id": "PYooZwjrum54"
      },
      "source": [
        "def get_pop(ROI,initial_date,final_date,NOx_per_cap):\n",
        "  \"\"\"\n",
        "  input:  RoI - Region of Interest\n",
        "          initial_date, final_date - timeframe to observe\n",
        "          NOx_per_cap - NOx emissions per capita, this differs per country\n",
        "  output: pop_collection - ee.ImageCollection, scaled mosiac collection of the NO2 emissions by people over the timeframe.\n",
        "  \"\"\"\n",
        "  pop_collection = ee.ImageCollection(\"CIESIN/GPWv411/GPW_Population_Density\").select('population_density').filterBounds(ROI)\n",
        "\n",
        "  # calc, time frame\n",
        "  scalent = (0.85793*NOx_per_cap)/1000*365 # To scale: (capita/km^2)*(NOx kg/capita)*(%year)*(kg^-1)*(year^-1) -> NOx g/day\n",
        "  pop_collection = pop_collection.map(lambda image: image.multiply(scalent)) # NOx g/day\n",
        "\n",
        "  return pop_collection # NOx g/day"
      ],
      "execution_count": null,
      "outputs": []
    },
    {
      "cell_type": "markdown",
      "metadata": {
        "id": "T2l5CddXo6Jy"
      },
      "source": [
        "$NO_2$"
      ]
    },
    {
      "cell_type": "markdown",
      "metadata": {
        "id": "TtWmEyN5zEcx"
      },
      "source": [
        "When selecting the feature for $NO_2$ readings we will look at `tropospheric_NO2_column_number_density` over the stratospheric to display the most direct influences of the generating stations. Additionally, this is the area of the atmosphere effected by weather.\n",
        "![alt text](https://drive.google.com/uc?id=17clGlHdcznPf8ZeKaztvlywBKqkWqn-J)\n",
        "\n",
        "Similar to the wind calculation we can determine the metre square per pixel. The S5P dataset has a resolution 0.01 arc degrees.\n",
        "\n",
        "$\\frac{\\theta}{360^\\circ}\\cdot2\\pi r = \\frac{0.01}{360^\\circ}\\cdot2\\pi\\cdot 6371 = 1.1194 km = 1194.92 m \\rightarrow 1,236,431 m^2$ "
      ]
    },
    {
      "cell_type": "code",
      "metadata": {
        "id": "vsg0RbXLDhyB"
      },
      "source": [
        "def get_NO2(ROI,initial_date,final_date):\n",
        "  \"\"\"\n",
        "  input:  RoI - Region of Interest\n",
        "          initial_date, final_date - timeframe to observe\n",
        "  output: no2_collection - ee.ImageCollection, scaled mosiac collection of the total NO2 over the timeframe\n",
        "  \"\"\"\n",
        "  # Data Acquiry\n",
        "  no2_collection = ee.ImageCollection('COPERNICUS/S5P/OFFL/L3_NO2').select('tropospheric_NO2_column_number_density').filterDate(initial_date,final_date).filterBounds(ROI)\n",
        "  # Mosaicing\n",
        "  no2_collection = mosiac_transform(no2_collection,initial_date,final_date) # NO2 image/day\n",
        "\n",
        "  # Unit Conversion\n",
        "  scalent = (1236431.1)*(46.0055) # To scale: (mol NO2/m^2)*(m^2)*(g/mol)\n",
        "  no2_collection = no2_collection.map(lambda image: image.multiply(scalent)) # mol/m^2 -> mol\n",
        "\n",
        "  return no2_collection # NO2 g/day"
      ],
      "execution_count": null,
      "outputs": []
    },
    {
      "cell_type": "markdown",
      "metadata": {
        "id": "cxYmmroX8myb"
      },
      "source": [
        "**Other Possible Features**\n",
        "\n",
        "There are many other features that could be included in the future to further enhance the models robustness. Including:\n",
        "* Roadways, pollution from transportation is somewhat included from the population density data but further support can be gained through roadway geometries\n",
        "* Flux, specifically long-wave downward flux (available via gldas) can provide additional support to the $NO_2$ measure.\n",
        "* Specific ICE information. If the types of internal combustion engines used in the burning of various fuels was available, this would provide further information regarding the emissions reduction metric, as well as a theoretical estimation that can then be adjusted by the remote sensing data."
      ]
    },
    {
      "cell_type": "markdown",
      "metadata": {
        "id": "iqAetoPWKepG"
      },
      "source": [
        "##Build"
      ]
    },
    {
      "cell_type": "code",
      "metadata": {
        "id": "GwJKxO4MSE3q"
      },
      "source": [
        "# power point data setup\n",
        "country = 'CAN'\n",
        "# determine the NOx per capita of the country of interest\n",
        "df = pd.read_csv(\"\") # INSERT DF DIRECTORY HERE!\n",
        "a = df.loc[df['LOCATION'] == country]\n",
        "NOx_per_cap = (a.iloc[0,6]).tolist()\n",
        "scalent = (0.85793*NOx_per_cap)/1000*365\n",
        "# obtain power plant data filtered to the country of interest\n",
        "pp_collection = ee.FeatureCollection(\"WRI/GPPD/power_plants\")\n",
        "country_filter = ee.Filter.eq('country', country)\n",
        "pp_collection = pp_collection.filter(country_filter)"
      ],
      "execution_count": null,
      "outputs": []
    },
    {
      "cell_type": "code",
      "metadata": {
        "id": "zeLpJLqhKhi-"
      },
      "source": [
        "def emissions(feature, initial_date, final_date, country = \"CAN\"):\n",
        "  \"\"\"\n",
        "  input:  RoI - ee.Geometry ,Region of Interest\n",
        "          initial_date, final_date - string, timeframe to observe\n",
        "          country - string ,3 letter country code\n",
        "  output: total emissions - float, total emisions for the region of origini and region of interest\n",
        "  \"\"\"\n",
        "\n",
        "\n",
        "  buffer_amount = ee.Number(feature.get('gwh_2016')).multiply(1.1)\n",
        "  ROI = feature.geometry().buffer(distance = buffer_amount, maxError = 200)\n",
        "  # print(ROI.area(100))\n",
        "\n",
        "  # Get data:\n",
        "  u_comp, v_comp = get_wind(ROI,initial_date,final_date)\n",
        "  pop_em = get_pop(ROI,initial_date,final_date,NOx_per_cap)\n",
        "  working_collection = get_NO2(ROI,initial_date,final_date)\n",
        "\n",
        "  # Perform Tranformations (RoI):\n",
        "  # Wind:\n",
        "  meanReducer = ee.Reducer.mean()\n",
        "  # MAJOR ASSUMPTION for simplicity: wind is averaged over time.\n",
        "  u_comp = u_comp.mean() \n",
        "  v_comp = v_comp.mean()\n",
        "\n",
        "  u_trans = u_comp.reduceRegion(reducer = meanReducer, \n",
        "                                geometry = ROI,\n",
        "                                scale = 27829)\n",
        "  v_trans = v_comp.reduceRegion(reducer = meanReducer, \n",
        "                                geometry = ROI,\n",
        "                                scale = 27829)\n",
        "  working_collection = working_collection.map(lambda image: image.translate(x = u_trans,\n",
        "                                                                            y = v_trans,\n",
        "                                                                            units = \"meters\"\n",
        "                                                                            ))\n",
        "  # Population Emissions:\n",
        "  pop_em = pop_em.mean()\n",
        "  working_collection = working_collection.map(lambda image: image.subtract(pop_em))\n",
        "\n",
        "  # Weighting by distance:\n",
        "  # adapted from https://www.kaggle.com/niyamatalmass/3-individual-power-plant-e-f-and-evaluation\n",
        "  working_collection = working_collection.reduce(ee.Reducer.sum())\n",
        "\n",
        "  maxD = 20000 # 20km max distance\n",
        "  distance = pp_collection.distance(searchRadius = maxD,\n",
        "                                    maxError = 1000)\n",
        "  weight = distance.subtract(maxD).abs().divide(maxD)\n",
        "  working_collection = working_collection.addBands(weight)\n",
        "\n",
        "  kernel = ee.Kernel.gaussian(\n",
        "      radius = 3, sigma = 1, units = 'pixels'\n",
        "  )\n",
        "  working_collection = working_collection.convolve(kernel)\n",
        "\n",
        "  # Calculate Emissions (weighted RoI):\n",
        "  weighter = ee.Reducer.sum() #.splitWeights()\n",
        "  total_emissions = working_collection.reduceRegion(reducer = weighter,\n",
        "                                                    geometry = ROI,\n",
        "                                                    scale = 1113)\n",
        "  # print(str(total_emissions.get('sum')))\n",
        "  return feature.set({'NO_2 Emissions':total_emissions.get('sum')})"
      ],
      "execution_count": null,
      "outputs": []
    },
    {
      "cell_type": "markdown",
      "metadata": {
        "id": "8OFkyvlDHE6d"
      },
      "source": [
        "##Results"
      ]
    },
    {
      "cell_type": "code",
      "metadata": {
        "id": "q530QnAchxC9"
      },
      "source": [
        "\n",
        "initial_date = '2018-06-01'\n",
        "final_date = '2019-06-01'\n",
        "\n",
        "em_collection = pp_collection.map(lambda feature: emissions(feature,initial_date,final_date,'CAN'))"
      ],
      "execution_count": null,
      "outputs": []
    },
    {
      "cell_type": "code",
      "metadata": {
        "id": "GOu_HaY8yX7i"
      },
      "source": [
        "first_batch_pp_code"
      ],
      "execution_count": null,
      "outputs": []
    },
    {
      "cell_type": "code",
      "metadata": {
        "id": "YEHh4lB_p1K_",
        "outputId": "b303771a-6dc2-44de-8fde-5f0f8f0594b7",
        "colab": {
          "base_uri": "https://localhost:8080/",
          "height": 72
        }
      },
      "source": [
        "# adapted from https://www.kaggle.com/niyamatalmass/3-individual-power-plant-e-f-and-evaluation\n",
        "em_collection = em_collection.reduceColumns(\n",
        "    reducer=ee.Reducer.toList().repeat(5),\n",
        "    selectors=['gppd_idnr', 'name', 'latitude', 'longitude', 'total_no2']).getInfo()\n",
        "results = pd.DataFrame(columns=['gppd_idnr', 'name', 'latitude', 'longitude', 'total_no2'])\n",
        "def convert_feature_collection_results_to_df(results, dataframe):\n",
        "    dataframe['gppd_idnr'] = pd.Series(results.get('list')[0])\n",
        "    dataframe['name'] = pd.Series(results.get('list')[1])\n",
        "    dataframe['latitude'] = pd.Series(results.get('list')[2])\n",
        "    dataframe['longitude'] = pd.Series(results.get('list')[3])\n",
        "    dataframe['total_no2'] = pd.Series(results.get('list')[4])\n",
        "    return dataframe\n",
        "results = convert_feature_collection_results_to_df(em_collection, results)\n"
      ],
      "execution_count": null,
      "outputs": [
        {
          "output_type": "stream",
          "text": [
            "/usr/local/lib/python3.6/dist-packages/ipykernel_launcher.py:10: DeprecationWarning: The default dtype for empty Series will be 'object' instead of 'float64' in a future version. Specify a dtype explicitly to silence this warning.\n",
            "  # Remove the CWD from sys.path while we load stuff.\n"
          ],
          "name": "stderr"
        }
      ]
    },
    {
      "cell_type": "code",
      "metadata": {
        "id": "X9cDvQhyqS2K",
        "outputId": "dea2f576-3bbc-4767-da2e-8dd9db9bbec4",
        "colab": {
          "base_uri": "https://localhost:8080/",
          "height": 206
        }
      },
      "source": [
        "results.head()"
      ],
      "execution_count": null,
      "outputs": [
        {
          "output_type": "execute_result",
          "data": {
            "text/html": [
              "<div>\n",
              "<style scoped>\n",
              "    .dataframe tbody tr th:only-of-type {\n",
              "        vertical-align: middle;\n",
              "    }\n",
              "\n",
              "    .dataframe tbody tr th {\n",
              "        vertical-align: top;\n",
              "    }\n",
              "\n",
              "    .dataframe thead th {\n",
              "        text-align: right;\n",
              "    }\n",
              "</style>\n",
              "<table border=\"1\" class=\"dataframe\">\n",
              "  <thead>\n",
              "    <tr style=\"text-align: right;\">\n",
              "      <th></th>\n",
              "      <th>gppd_idnr</th>\n",
              "      <th>name</th>\n",
              "      <th>latitude</th>\n",
              "      <th>longitude</th>\n",
              "      <th>total_no2</th>\n",
              "    </tr>\n",
              "  </thead>\n",
              "  <tbody>\n",
              "    <tr>\n",
              "      <th>0</th>\n",
              "      <td>CAN0002051</td>\n",
              "      <td>Greenfield Energy Centre</td>\n",
              "      <td>42.7701</td>\n",
              "      <td>-82.4528</td>\n",
              "      <td>NaN</td>\n",
              "    </tr>\n",
              "    <tr>\n",
              "      <th>1</th>\n",
              "      <td>CAN0002087</td>\n",
              "      <td>St. Clair</td>\n",
              "      <td>42.8973</td>\n",
              "      <td>-82.3984</td>\n",
              "      <td>NaN</td>\n",
              "    </tr>\n",
              "    <tr>\n",
              "      <th>2</th>\n",
              "      <td>CAN0002090</td>\n",
              "      <td>TransAlta Sarnia Cogeneration</td>\n",
              "      <td>42.9346</td>\n",
              "      <td>-82.4381</td>\n",
              "      <td>NaN</td>\n",
              "    </tr>\n",
              "    <tr>\n",
              "      <th>3</th>\n",
              "      <td>CAN0002095</td>\n",
              "      <td>York Energy Centre</td>\n",
              "      <td>44.0757</td>\n",
              "      <td>-79.5309</td>\n",
              "      <td>NaN</td>\n",
              "    </tr>\n",
              "    <tr>\n",
              "      <th>4</th>\n",
              "      <td>CAN0002069</td>\n",
              "      <td>Mississauga</td>\n",
              "      <td>43.6987</td>\n",
              "      <td>-79.6434</td>\n",
              "      <td>NaN</td>\n",
              "    </tr>\n",
              "  </tbody>\n",
              "</table>\n",
              "</div>"
            ],
            "text/plain": [
              "    gppd_idnr                           name  latitude  longitude  total_no2\n",
              "0  CAN0002051       Greenfield Energy Centre   42.7701   -82.4528        NaN\n",
              "1  CAN0002087                      St. Clair   42.8973   -82.3984        NaN\n",
              "2  CAN0002090  TransAlta Sarnia Cogeneration   42.9346   -82.4381        NaN\n",
              "3  CAN0002095             York Energy Centre   44.0757   -79.5309        NaN\n",
              "4  CAN0002069                    Mississauga   43.6987   -79.6434        NaN"
            ]
          },
          "metadata": {
            "tags": []
          },
          "execution_count": 150
        }
      ]
    },
    {
      "cell_type": "markdown",
      "metadata": {
        "id": "Xgz9i7NTfOjc"
      },
      "source": [
        "Most likely due to a zeroing of the `working_collection` or a unit/scaling problem along the way. The best course of action is to translate all of my python into java and run it straight through the earth engine editor. Debugging through the editor is much easier as well as plotting. Additionally **all** the reference documentation is in java, making it very difficult to troubleshoot."
      ]
    },
    {
      "cell_type": "markdown",
      "metadata": {
        "id": "57Cj6wTeEGN8"
      },
      "source": [
        "#Furture Work\n"
      ]
    },
    {
      "cell_type": "markdown",
      "metadata": {
        "id": "kEKCv1loEKMx"
      },
      "source": [
        "When applying the such simply transformations it results in several large assumptions. Expanding the model to more rebust and data driven learning will increase the applicablilty and overall quality of the model. Additionally to tackle the dimensionality problem among remote sensing data we can develop a framing system that fixes the amount of sample it takes but remains scalable to ensure its robustness."
      ]
    },
    {
      "cell_type": "markdown",
      "metadata": {
        "id": "f-jQ9tEIbWCG"
      },
      "source": [
        "Appendix A:\n",
        "\n",
        "Code from Earth Engine Editor for testing, further exploration but primarily learning how ee works :)\n"
      ]
    },
    {
      "cell_type": "markdown",
      "metadata": {
        "id": "6k4Pc8jcbgMU"
      },
      "source": [
        "\n",
        "\n",
        "```\n",
        "// GFS info\n",
        "var start = '2019-06-01';\n",
        "var end = '2019-06-20';\n",
        "var gfs = ee.ImageCollection('NOAA/GFS0P25')\n",
        "                  .filterDate(start, end).filterBounds(geometry3);\n",
        "var scale = gfs.first(gfs).projection().nominalScale();\n",
        "print(\"GFS pixel area\", scale);   \n",
        "var visParams = {\n",
        "  min: -40.0,\n",
        "  max: 35.0,\n",
        "  palette: ['blue', 'purple', 'cyan', 'green', 'yellow', 'red'],\n",
        "};\n",
        "gfs = gfs.select('u_component_of_wind_10m_above_ground')\n",
        "Map.addLayer(gfs.mean(), visParams, 'gfs');\n",
        "\n",
        "// GPW info\n",
        "var gpw = ee.ImageCollection(\"CIESIN/GPWv411/GPW_Population_Density\").first();\n",
        "var scale = gpw.first(gpw).projection().nominalScale();\n",
        "print(\"GPW pixel area\", scale);\n",
        "var gpw = gpw.select('population_density');\n",
        "var visParams = {\n",
        "  \"max\": 1000.0,\n",
        "  \"palette\": [\n",
        "    \"ffffe7\",\n",
        "    \"FFc869\",\n",
        "    \"ffac1d\",\n",
        "    \"e17735\",\n",
        "    \"f2552c\",\n",
        "    \"9f0c21\"\n",
        "  ],\n",
        "  \"min\": 200.0\n",
        "};\n",
        "Map.addLayer(gpw, visParams, 'population_density');\n",
        "\n",
        "// S5P info\n",
        "var s5p = ee.ImageCollection('COPERNICUS/S5P/OFFL/L3_NO2')\n",
        "  .select('tropospheric_NO2_column_number_density')\n",
        "  .filterDate('2019-06-01', '2019-06-06');\n",
        "var scale = s5p.first().projection().nominalScale();\n",
        "print(\"NO2 pixel area\", scale);\n",
        "var visParams = {\n",
        "  min: 0,\n",
        "  max: 0.0002,\n",
        "  palette: ['black', 'blue', 'purple', 'cyan', 'green', 'yellow', 'red']\n",
        "};\n",
        "Map.addLayer(s5p.mean(), visParams, 'S5P N02');\n",
        "\n",
        "print(\"Rect. Area\",geometry3.area(2))\n",
        "print(\"Width\",geometry.length(1))\n",
        "print(\"Height\",geometry5.length(6))\n",
        "print(\"Diag\",geometry6.length(1))\n",
        "\n",
        "\n",
        "\n",
        "var bandNames = s5p.first().date();\n",
        "print('s5p Band names: ', bandNames);\n",
        "\n",
        "var bandNames = gfs.first().bandNames();\n",
        "print('gfs Band names: ', bandNames);\n",
        "\n",
        "var scalent = (0.85793*47)/(1000*360);\n",
        "// gpw = gpw.map(function(image) {\n",
        "//   return image.multiply(scalent);\n",
        "// });\n",
        "gpw = gpw.multiply(scalent)\n",
        "var scalent = (1236431.1)*(46.0055);\n",
        "s5p = s5p.map(function(image) {\n",
        "  return image.multiply(scalent);\n",
        "});\n",
        "var visParams = {\n",
        "  min: 551.38,\n",
        "  max: 50695.40,\n",
        "  palette: ['black', 'blue', 'purple', 'cyan', 'green', 'yellow', 'red']\n",
        "};\n",
        "\n",
        "\n",
        "Map.addLayer(gpw,visParams,'scaledGpw')\n",
        "\n",
        "var sub = s5p.mean().subtract(gpw)\n",
        "Map.addLayer(sub, visParams, 'Sub')\n",
        "\n",
        "var maxReducer = ee.Reducer.min();\n",
        "var Max = sub.reduceRegion(maxReducer, china);\n",
        "print(\"max\",Max);\n",
        "// max of china 28695.40\n",
        "\n",
        "Map.setCenter(65.27, 24.11, 2);\n",
        "```\n",
        "\n"
      ]
    },
    {
      "cell_type": "markdown",
      "metadata": {
        "id": "Kz7rhWkaT4uJ"
      },
      "source": [
        "**References:**\n",
        "\n",
        "[1] \tUnited States Environmental Protection Agency, \"Basic Information of Air Emissions Factors and Quantification,\" United States Environmental Protection Agency, 2 September 2016. [Online]. Available: https://www.epa.gov/air-emissions-factors-and-quantification/basic-information-air-emissions-factors-and-quantification#Emissions%20Factors%20Procedures. [Accessed 15 Februray 2020].\n",
        "\n",
        "[2] \tEnvironmental Insights Explorer Team, Google, \"DS4G: Environmental Insights Explorer | Kaggle,\" Kaggle Inc, 11 February 2020. [Online]. Available: https://www.kaggle.com/c/ds4g-environmental-insights-explorer/overview. [Accessed 13 February 2020].\n",
        "\n",
        "[3] \tEuropean Union/ESA/Copernicus, Sentinel-5P OFFL NO2: Offline Nitrogen Dioxide, Google Earth Engine;, 2018. \n",
        "\n",
        "[4] \tNOAA/NCEP/EMC, GFS: Global Forecast System 384-Hour Predicted Atmosphere Data, Google Earth Engine, 2015. \n",
        "\n",
        "[5] \tNASA, GLDAS-2.1: Global Land Data Assimilation System, Google Earth Engine, 2000. \n",
        "\n",
        "[6] \tGlobal Energy Observatory, Google, KTH Royal Institute of Technology in Stockholm, Enipedia, World Resources Institute., Global Power Plant Database, Google Earth Engine, 2018.. \n",
        "\n",
        "[7] \tEPA, \"AP - 42 Vol. I Introduction - c00s00.pdf,\" [Online]. Available: https://www3.epa.gov/ttnchie1/ap42/c00s00.pdf. [Accessed 2020].\n",
        "\n",
        "[8] \tWorld Health Organization, \"WHO Air quality guidelines for particulate matter,ozone, nitrogen dioxide and sulfur dioxide,\" Geneva, 2005.\n",
        "\n",
        "[10]  Environmental Chemistry, 5e, Colin Baird, Michael Cann, 2012  published by the W. H. Freeman and Company in New York\n"
      ]
    }
  ]
}